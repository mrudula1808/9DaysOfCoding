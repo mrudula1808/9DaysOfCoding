{
  "nbformat": 4,
  "nbformat_minor": 0,
  "metadata": {
    "colab": {
      "name": "Untitled7.ipynb",
      "provenance": []
    },
    "kernelspec": {
      "name": "python3",
      "display_name": "Python 3"
    },
    "language_info": {
      "name": "python"
    }
  },
  "cells": [
    {
      "cell_type": "code",
      "metadata": {
        "colab": {
          "base_uri": "https://localhost:8080/"
        },
        "id": "nZdotlKwd6Gb",
        "outputId": "78cad712-441c-4825-f027-3d2ee7478c9d"
      },
      "source": [
        "#1.program to find all pairs in array of integer whose sum is equal to a given number.\n",
        "def PairsHavingSum(lis, n, sum):\n",
        "    count = 0 \n",
        "    for i in range(0, n):\n",
        "        for j in range(i + 1, n):\n",
        "            if lis[i] + lis[j] == sum:\n",
        "              print(\"Pair\",'=',lis[i],lis[j])\n",
        "              count += 1 \n",
        "    return count\n",
        "samp_list=[5,10,-10,20,30,-15,15,0]\n",
        "PairsHavingSum(samp_list,len(samp_list),30)"
      ],
      "execution_count": 6,
      "outputs": [
        {
          "output_type": "stream",
          "name": "stdout",
          "text": [
            "Pair = 10 20\n",
            "Pair = 30 0\n"
          ]
        },
        {
          "output_type": "execute_result",
          "data": {
            "text/plain": [
              "2"
            ]
          },
          "metadata": {},
          "execution_count": 6
        }
      ]
    },
    {
      "cell_type": "code",
      "metadata": {
        "colab": {
          "base_uri": "https://localhost:8080/"
        },
        "id": "IVifjx3kgESY",
        "outputId": "b0ac1f05-263d-4f96-c5ce-b455ab86a1e1"
      },
      "source": [
        "#2.To find the sum of digits of a number using recursion\n",
        "def sumofdigits(number):\n",
        "  if number==0:\n",
        "    return 0\n",
        "  else:\n",
        "    return (number%10) + sumofdigits(number//10)\n",
        "print(\"Sum of digits=\",sumofdigits(6455325))"
      ],
      "execution_count": 16,
      "outputs": [
        {
          "output_type": "stream",
          "name": "stdout",
          "text": [
            "Sum of digits= 30\n"
          ]
        }
      ]
    },
    {
      "cell_type": "code",
      "metadata": {
        "colab": {
          "base_uri": "https://localhost:8080/"
        },
        "id": "h_q1uOwthtiU",
        "outputId": "5391c47b-fa87-4b50-e486-76754bdb9f68"
      },
      "source": [
        "#3.To find the sum of squares of first N odd natural numbers.\n",
        "def squareSum(n):\n",
        "  total=0 \n",
        "  for i in range(0,2*n+1):\n",
        "    if i%2!=0:\n",
        "      total=total+(i**2)\n",
        "  return total\n",
        "print(\"Sum of squares of first 10 odd numbers is:\",squareSum(10))"
      ],
      "execution_count": 31,
      "outputs": [
        {
          "output_type": "stream",
          "name": "stdout",
          "text": [
            "Sum of squares of first 10 odd numbers is: 1330\n"
          ]
        }
      ]
    },
    {
      "cell_type": "code",
      "metadata": {
        "colab": {
          "base_uri": "https://localhost:8080/"
        },
        "id": "DdzsoUmllTX4",
        "outputId": "571bb7c4-7156-4a35-cdf1-4ebf1a1ed6cd"
      },
      "source": [
        "#4.program to REVERSE the number\n",
        "print('Enter a number:')\n",
        "num=int(input())\n",
        "str_of_int=str(num)\n",
        "print(str_of_int[::-1])"
      ],
      "execution_count": 32,
      "outputs": [
        {
          "output_type": "stream",
          "name": "stdout",
          "text": [
            "Enter a number:\n",
            "6543210\n",
            "0123456\n"
          ]
        }
      ]
    },
    {
      "cell_type": "code",
      "metadata": {
        "colab": {
          "base_uri": "https://localhost:8080/"
        },
        "id": "HDcEEdCFmaQI",
        "outputId": "67bf6034-831b-458d-b2c2-24ac67edbc55"
      },
      "source": [
        "#5.program to convert BINARY to DECIMAL\n",
        "binary = input('enter a number: ') \n",
        "decimal = 0 \n",
        "for digit in binary: \n",
        "    decimal = decimal*2 + int(digit) \n",
        "print(decimal) "
      ],
      "execution_count": 34,
      "outputs": [
        {
          "output_type": "stream",
          "name": "stdout",
          "text": [
            "enter a number: 11100111\n",
            "231\n"
          ]
        }
      ]
    },
    {
      "cell_type": "code",
      "metadata": {
        "colab": {
          "base_uri": "https://localhost:8080/"
        },
        "id": "OeVEcSsBnDPY",
        "outputId": "bcb86e72-0052-4e7e-e5f1-43935dc7844d"
      },
      "source": [
        "#6.ZIP, ZAP and ZOOM game\n",
        "print('Enter a number')\n",
        "num=int(input())\n",
        "if num%3==0 and num%5==0:\n",
        "  print(\"ZOOM\")\n",
        "elif num%3==0 and num%5!=0:\n",
        "  print(\"ZIP\")\n",
        "elif num%3!=0 and num%5==0:\n",
        "  print(\"ZAP\")\n",
        "else:\n",
        "  print(\"INVALID\")"
      ],
      "execution_count": 74,
      "outputs": [
        {
          "output_type": "stream",
          "name": "stdout",
          "text": [
            "Enter a number\n",
            "14\n",
            "INVALID\n"
          ]
        }
      ]
    },
    {
      "cell_type": "code",
      "metadata": {
        "colab": {
          "base_uri": "https://localhost:8080/"
        },
        "id": "ECtNaB_uohVX",
        "outputId": "9696f67d-8d3b-4ebe-9023-0da1c65a5966"
      },
      "source": [
        "#7. program to display number of LOWERCASE, UPPERCASE, SPECIAL SYMBOLS, SPACES and DIGITS in a STRING\n",
        "def Count_of_char(str):\n",
        "    upper, lower, digit,spaces, special = 0, 0, 0, 0,0\n",
        "    for i in range(len(str)):\n",
        "        if str[i].isupper():\n",
        "            upper += 1\n",
        "        elif str[i].islower():\n",
        "            lower += 1\n",
        "        elif str[i].isdigit():\n",
        "            digit += 1\n",
        "        elif str[i].isspace():\n",
        "          spaces+=1\n",
        "        else:\n",
        "            special += 1\n",
        "    print('Lower case:', lower)\n",
        "    print('Upper case:', upper)\n",
        "    print('Special symbols:', special)\n",
        "    print('Spaces:',spaces)\n",
        "    print('Digits:', digit)\n",
        "\n",
        "Count_of_char(\"#This Is @ Sample $tring t0 check 5tring ch@R$.\")"
      ],
      "execution_count": 72,
      "outputs": [
        {
          "output_type": "stream",
          "name": "stdout",
          "text": [
            "Lower case: 27\n",
            "Upper case: 4\n",
            "Special symbols: 6\n",
            "Spaces: 8\n",
            "Digits: 2\n"
          ]
        }
      ]
    },
    {
      "cell_type": "code",
      "metadata": {
        "colab": {
          "base_uri": "https://localhost:8080/"
        },
        "id": "ocNP6NeOp6ZG",
        "outputId": "957a4842-9815-4bf7-cf76-5b546ad1e831"
      },
      "source": [
        "#8.  program to insert an element into existing array in a specified position\n",
        "print('Enter the position to insert an element:')\n",
        "pos=int(input())\n",
        "print('Enter element to be inserted:')\n",
        "ele=int(input())\n",
        "list_1=[1,2,4,5,6,8,9,10]\n",
        "list_1.insert(pos-1,ele)\n",
        "print(list_1)"
      ],
      "execution_count": 57,
      "outputs": [
        {
          "output_type": "stream",
          "name": "stdout",
          "text": [
            "Enter the position to insert an element:\n",
            "3\n",
            "Enter element to be inserted:\n",
            "3\n",
            "[1, 2, 3, 4, 5, 6, 8, 9, 10]\n"
          ]
        }
      ]
    },
    {
      "cell_type": "code",
      "metadata": {
        "colab": {
          "base_uri": "https://localhost:8080/"
        },
        "id": "u8zuVZjpuJ1M",
        "outputId": "a0637f09-72d6-4788-8d1f-79161ba75a56"
      },
      "source": [
        "#9. program to search an element in the existing array\n",
        "list_2=[1,2,3,4,5,6,8,9,10]\n",
        "print('Enter an element to be searched:')\n",
        "element=int(input())\n",
        "if(element in list_2):\n",
        "  print(element,\"found in position:\",list_2.index(element))\n",
        "else:\n",
        "  print(element,\"not found!\")"
      ],
      "execution_count": 59,
      "outputs": [
        {
          "output_type": "stream",
          "name": "stdout",
          "text": [
            "Enter an element to be searched:\n",
            "11\n",
            "11 not found!\n"
          ]
        }
      ]
    },
    {
      "cell_type": "code",
      "metadata": {
        "colab": {
          "base_uri": "https://localhost:8080/",
          "height": 35
        },
        "id": "fvzReEjhvTPA",
        "outputId": "91dad531-cb9d-485c-cf86-67971333bb83"
      },
      "source": [
        "#10. program to remove vowels from string\n",
        "def remove_vowels(sample_string):\n",
        "  vowel_list=['a','e','i','o','u']\n",
        "  for ch in sample_string:\n",
        "    if ch.lower() in vowel_list:\n",
        "      sample_string = sample_string.replace(ch,\"\")\n",
        "  return sample_string\n",
        "remove_vowels('HELLO,Good Morning!')"
      ],
      "execution_count": 69,
      "outputs": [
        {
          "output_type": "execute_result",
          "data": {
            "application/vnd.google.colaboratory.intrinsic+json": {
              "type": "string"
            },
            "text/plain": [
              "'HLL,Gd Mrnng!'"
            ]
          },
          "metadata": {},
          "execution_count": 69
        }
      ]
    }
  ]
}